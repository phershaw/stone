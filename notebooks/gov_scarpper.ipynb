{
 "cells": [
  {
   "cell_type": "code",
   "execution_count": null,
   "metadata": {},
   "outputs": [],
   "source": [
    "# Standard imports\n",
    "import numpy as np\n",
    "import pandas as pd\n",
    "\n",
    "# For web scraping\n",
    "import requests\n",
    "from bs4 import BeautifulSoup\n"
   ]
  },
  {
   "cell_type": "code",
   "execution_count": null,
   "metadata": {},
   "outputs": [],
   "source": [
    "#  Function to get text from webpage using BeautifulSoup\n",
    "def safe_get_text(soup, selector, index):\n",
    "    elements = soup.find_all(selector)\n",
    "    if len(elements) > index:\n",
    "        return elements[index].get_text(strip=True)\n",
    "    return \"Not specified\"\n",
    "\n",
    "# This URL is where all government news releases, statements, and advisories are stored.\n",
    "base_url = \"https://www.canada.ca/en/news/advanced-news-search/news-results.html\"\n",
    "\n",
    "# These parameters display all news releases, statements, and advisories from 2015 to present. The 'idx' parameter is used to iterate through the pages.\n",
    "params = {\n",
    "    'start': '2015-01-01',\n",
    "    'end': '',\n",
    "    'idx': 0,\n",
    "    '_': '1704247183169'\n",
    "}\n",
    "\n",
    "# List to store article data\n",
    "data = []\n",
    "\n",
    "# Loop through the pages\n",
    "for idx in range(0, 66590, 10):\n",
    "    params['idx'] = idx  # Update the 'idx' parameter\n",
    "    response = requests.get(base_url, params=params)\n",
    "    # Print the range of the current page to keep track of progress\n",
    "    print(f'Range: {idx})')\n",
    "\n",
    "    if response.status_code != 200:\n",
    "        print(f\"Failed to retrieve the webpage for idx={idx}\")\n",
    "        continue\n",
    "\n",
    "    #Use BeautifulSoup to parse the HTML\n",
    "    soup = BeautifulSoup(response.content, 'html.parser')\n",
    "    articles = soup.find_all('article', class_='item')\n",
    "\n",
    "    # Loop through the articles on the page and pull out key information\n",
    "    for article in articles:\n",
    "        title = safe_get_text(article, 'h3.h5', 0)\n",
    "        link = article.find('h3', class_='h5').find('a', href=True)['href'] if article.find('h3', class_='h5').find('a', href=True) else \"No link\"\n",
    "        date = article.find('time')['datetime'] if article.find('time') else \"No date\"\n",
    "        additional_info = safe_get_text(article, 'p', 0).split('|')\n",
    "        department = additional_info[1].strip() if len(additional_info) >= 2 else \"Not specified\"\n",
    "        article_type = additional_info[2].strip() if len(additional_info) > 2 else \"Not specified\"\n",
    "        summary = safe_get_text(article, 'p', 1)\n",
    "        \n",
    "        # Append the fields to the list\n",
    "        data.append([title, link, date, department, article_type, summary])"
   ]
  },
  {
   "cell_type": "code",
   "execution_count": null,
   "metadata": {},
   "outputs": [],
   "source": [
    "# Create a DataFrame\n",
    "articles = pd.DataFrame(data, columns=['Title', 'Link', 'Date', 'Department', 'Article Type', 'Summary'])\n"
   ]
  },
  {
   "cell_type": "code",
   "execution_count": null,
   "metadata": {},
   "outputs": [],
   "source": [
    "# Save the DataFrame to a CSV file\n",
    "articles.to_csv('/Users/paulhershaw/brainstation_course/project_folder/stone/data/gov_articles_URLs.csv', index=False)\n",
    "\n"
   ]
  }
 ],
 "metadata": {
  "kernelspec": {
   "display_name": "Python 3 (ipykernel)",
   "language": "python",
   "name": "python3"
  },
  "language_info": {
   "codemirror_mode": {
    "name": "ipython",
    "version": 3
   },
   "file_extension": ".py",
   "mimetype": "text/x-python",
   "name": "python",
   "nbconvert_exporter": "python",
   "pygments_lexer": "ipython3",
   "version": "3.11.4"
  }
 },
 "nbformat": 4,
 "nbformat_minor": 2
}
